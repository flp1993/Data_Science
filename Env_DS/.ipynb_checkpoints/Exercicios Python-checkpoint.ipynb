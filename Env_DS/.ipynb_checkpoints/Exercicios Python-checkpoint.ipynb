{
 "cells": [
  {
   "cell_type": "code",
   "execution_count": 13,
   "metadata": {},
   "outputs": [],
   "source": [
    "lista = None\n",
    "def amplitude():\n",
    "    lista = list(input('lista:'))\n",
    "    print(f'Sua lista tem {len(lista)} elementos. \\nLista: {lista}')\n",
    "   "
   ]
  },
  {
   "cell_type": "code",
   "execution_count": 14,
   "metadata": {},
   "outputs": [
    {
     "name": "stdin",
     "output_type": "stream",
     "text": [
      "lista: a\n"
     ]
    },
    {
     "name": "stdout",
     "output_type": "stream",
     "text": [
      "Sua lista tem 1 elementos. \n",
      "Lista: ['a']\n"
     ]
    }
   ],
   "source": [
    "amplitude()"
   ]
  },
  {
   "cell_type": "code",
   "execution_count": 2,
   "metadata": {},
   "outputs": [
    {
     "name": "stdin",
     "output_type": "stream",
     "text": [
      "Digite algo: Felipe\n"
     ]
    },
    {
     "name": "stdout",
     "output_type": "stream",
     "text": [
      "F\n",
      "e\n",
      "l\n",
      "i\n",
      "p\n",
      "e\n"
     ]
    }
   ],
   "source": [
    "vertical = input('Digite algo:')\n",
    "\n",
    "for i in vertical:\n",
    "    print(i)"
   ]
  },
  {
   "cell_type": "code",
   "execution_count": 6,
   "metadata": {},
   "outputs": [
    {
     "name": "stdin",
     "output_type": "stream",
     "text": [
      "Digite o peso: 200\n"
     ]
    },
    {
     "name": "stdout",
     "output_type": "stream",
     "text": [
      "Transporte não aceito\n"
     ]
    }
   ],
   "source": [
    "peso = int(input('Digite o peso:'))\n",
    "\n",
    "if peso <= 10:\n",
    "    print('R$50,00')\n",
    "elif peso >= 11 and peso <= 20:\n",
    "    print('R$80,00')\n",
    "else:    \n",
    "    print('Transporte não aceito')"
   ]
  },
  {
   "cell_type": "code",
   "execution_count": 16,
   "metadata": {},
   "outputs": [
    {
     "name": "stdin",
     "output_type": "stream",
     "text": [
      "Gostaria de somar um salario s\n",
      "Qual o primeiro valor? 100\n",
      "Gostaria de somar mais um salario s\n",
      "Qual o valor? 100\n",
      "Gostaria de somar mais um salario s\n",
      "Qual o valor? 100\n",
      "Gostaria de somar mais um salario s\n",
      "Qual o valor? 100\n",
      "Gostaria de somar mais um salario s\n",
      "Qual o valor? 100\n",
      "Gostaria de somar mais um salario s\n",
      "Qual o valor? 100\n",
      "Gostaria de somar mais um salario s\n",
      "Qual o valor? 100\n",
      "Gostaria de somar mais um salario s\n",
      "Qual o valor? 100\n",
      "Gostaria de somar mais um salario s\n",
      "Qual o valor? 100\n",
      "Gostaria de somar mais um salario s\n",
      "Qual o valor? 100\n",
      "Gostaria de somar mais um salario n\n"
     ]
    },
    {
     "name": "stdout",
     "output_type": "stream",
     "text": [
      "1000.0\n"
     ]
    }
   ],
   "source": [
    "add = True\n",
    "pergunta = input('Gostaria de somar um salario?')\n",
    "salario = float(input(\"Qual o primeiro valor?\"))\n",
    "\n",
    "while add == True:\n",
    "    p1 = input('Gostaria de somar mais um salario')\n",
    "    if p1 == 'n':\n",
    "        add = False\n",
    "    else:\n",
    "        soma = float(input('Qual o valor?'))\n",
    "        salario = salario + soma\n",
    "print(salario)    "
   ]
  },
  {
   "cell_type": "code",
   "execution_count": null,
   "metadata": {},
   "outputs": [],
   "source": []
  }
 ],
 "metadata": {
  "kernelspec": {
   "display_name": "Python 3",
   "language": "python",
   "name": "python3"
  },
  "language_info": {
   "codemirror_mode": {
    "name": "ipython",
    "version": 3
   },
   "file_extension": ".py",
   "mimetype": "text/x-python",
   "name": "python",
   "nbconvert_exporter": "python",
   "pygments_lexer": "ipython3",
   "version": "3.8.3"
  }
 },
 "nbformat": 4,
 "nbformat_minor": 4
}
