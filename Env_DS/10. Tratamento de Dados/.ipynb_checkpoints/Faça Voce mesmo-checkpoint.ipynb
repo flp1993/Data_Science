{
 "cells": [
  {
   "cell_type": "code",
   "execution_count": 97,
   "metadata": {},
   "outputs": [],
   "source": [
    "# Imports\n",
    "import pandas as pd\n",
    "import seaborn as srn\n",
    "import statistics as sts"
   ]
  },
  {
   "cell_type": "code",
   "execution_count": 98,
   "metadata": {},
   "outputs": [],
   "source": [
    "# Recebendo o arquivo a ser tratado\n",
    "dataset = pd.read_csv('tempo.csv',sep=';')"
   ]
  },
  {
   "cell_type": "code",
   "execution_count": 99,
   "metadata": {},
   "outputs": [
    {
     "data": {
      "text/html": [
       "<div>\n",
       "<style scoped>\n",
       "    .dataframe tbody tr th:only-of-type {\n",
       "        vertical-align: middle;\n",
       "    }\n",
       "\n",
       "    .dataframe tbody tr th {\n",
       "        vertical-align: top;\n",
       "    }\n",
       "\n",
       "    .dataframe thead th {\n",
       "        text-align: right;\n",
       "    }\n",
       "</style>\n",
       "<table border=\"1\" class=\"dataframe\">\n",
       "  <thead>\n",
       "    <tr style=\"text-align: right;\">\n",
       "      <th></th>\n",
       "      <th>Aparencia</th>\n",
       "      <th>Temperatura</th>\n",
       "      <th>Umidade</th>\n",
       "      <th>Vento</th>\n",
       "      <th>Jogar</th>\n",
       "    </tr>\n",
       "  </thead>\n",
       "  <tbody>\n",
       "    <tr>\n",
       "      <th>0</th>\n",
       "      <td>sol</td>\n",
       "      <td>85</td>\n",
       "      <td>85.0</td>\n",
       "      <td>FALSO</td>\n",
       "      <td>nao</td>\n",
       "    </tr>\n",
       "    <tr>\n",
       "      <th>1</th>\n",
       "      <td>sol</td>\n",
       "      <td>80</td>\n",
       "      <td>90.0</td>\n",
       "      <td>VERDADEIRO</td>\n",
       "      <td>nao</td>\n",
       "    </tr>\n",
       "    <tr>\n",
       "      <th>2</th>\n",
       "      <td>nublado</td>\n",
       "      <td>83</td>\n",
       "      <td>86.0</td>\n",
       "      <td>FALSO</td>\n",
       "      <td>sim</td>\n",
       "    </tr>\n",
       "    <tr>\n",
       "      <th>3</th>\n",
       "      <td>chuva</td>\n",
       "      <td>70</td>\n",
       "      <td>NaN</td>\n",
       "      <td>FALSO</td>\n",
       "      <td>sim</td>\n",
       "    </tr>\n",
       "    <tr>\n",
       "      <th>4</th>\n",
       "      <td>chuva</td>\n",
       "      <td>68</td>\n",
       "      <td>80.0</td>\n",
       "      <td>FALSO</td>\n",
       "      <td>sim</td>\n",
       "    </tr>\n",
       "  </tbody>\n",
       "</table>\n",
       "</div>"
      ],
      "text/plain": [
       "  Aparencia  Temperatura  Umidade       Vento Jogar\n",
       "0       sol           85     85.0       FALSO   nao\n",
       "1       sol           80     90.0  VERDADEIRO   nao\n",
       "2   nublado           83     86.0       FALSO   sim\n",
       "3     chuva           70      NaN       FALSO   sim\n",
       "4     chuva           68     80.0       FALSO   sim"
      ]
     },
     "execution_count": 99,
     "metadata": {},
     "output_type": "execute_result"
    }
   ],
   "source": [
    "dataset.head()"
   ]
  },
  {
   "cell_type": "code",
   "execution_count": 100,
   "metadata": {},
   "outputs": [
    {
     "name": "stdout",
     "output_type": "stream",
     "text": [
      "Nº de nulos em \"Aparencia\": 0\n",
      "Nº de nulos em \"Temperatura\": 0\n",
      "Nº de nulos em \"Umidade\": 1\n",
      "Nº de nulos em \"Vento\": 1\n",
      "Nº de nulos em \"Jogar\": 0\n"
     ]
    }
   ],
   "source": [
    "# Verificando valores Nulos:\n",
    "nulos_aparencia = dataset['Aparencia'].isnull().sum()\n",
    "nulos_temperatura = dataset['Temperatura'].isnull().sum()\n",
    "nulos_umidade = dataset['Umidade'].isnull().sum()\n",
    "nulos_vento = dataset['Vento'].isnull().sum()\n",
    "nulos_jogar = dataset['Jogar'].isnull().sum()\n",
    "print(f'Nº de nulos em \"Aparencia\": {nulos_aparencia}'\n",
    "     f'\\nNº de nulos em \"Temperatura\": {nulos_temperatura}'\n",
    "     f'\\nNº de nulos em \"Umidade\": {nulos_umidade}'\n",
    "     f'\\nNº de nulos em \"Vento\": {nulos_vento}'\n",
    "     f'\\nNº de nulos em \"Jogar\": {nulos_jogar}')\n",
    "\n"
   ]
  },
  {
   "cell_type": "code",
   "execution_count": 101,
   "metadata": {},
   "outputs": [
    {
     "name": "stdout",
     "output_type": "stream",
     "text": [
      "Nº de nulos em \"Umidade\": 0\n",
      "\n",
      "Verifique o valor que mais aparece em Vento:\n",
      "Vento\n",
      "FALSO         7\n",
      "VERDADEIRO    6\n",
      "dtype: int64\n",
      "\n",
      "\"FALSO\" é o que mais aparece, então vamos substituir os \"nulls\" por \"FALSO\"\n",
      "\n",
      "Número de \"Nulls\" em \"Vento:\" 1\n",
      "\n",
      "Após substituir os \"Nulos vamos conferir:\n",
      "    Nº de nulos em \"Vento\": 0\n"
     ]
    }
   ],
   "source": [
    "# Arrumando valores nulos:\n",
    "# Umidade\n",
    "# Achando a mediana\n",
    "mediana_umidade = sts.median(dataset['Umidade'])\n",
    "\n",
    "# Substituindo os Nulls\n",
    "dataset['Umidade'].fillna(mediana_umidade, inplace = True)\n",
    "\n",
    "# Resomando os Nulls\n",
    "nulos_umidade = dataset['Umidade'].isnull().sum()\n",
    "\n",
    "# Mostrando o resultado final\n",
    "print(f'Nº de nulos em \"Umidade\": {nulos_umidade}')\n",
    "\n",
    "\n",
    "# Vento\n",
    "# Achando a mediana (Categorica fiz pelo olho mesmo)\n",
    "mediana_vento = dataset.groupby(['Vento']).size()\n",
    "\n",
    "# Contando os nulos em \"Vento\"\n",
    "nulos_vento = dataset['Vento'].isnull().sum()\n",
    "\n",
    "# Breve explicação do que foi feito\n",
    "print(f'\\nVerifique o valor que mais aparece em Vento:\\n{mediana_vento}'\n",
    "     f'\\n\\n\"FALSO\" é o que mais aparece, então vamos substituir'\n",
    "     f' os \"nulls\" por \"FALSO\"'\n",
    "      f'\\n\\nNúmero de \"Nulls\" em \"Vento:\" {nulos_vento}')\n",
    "\n",
    "# Vamos substituir os Nulls\n",
    "dataset['Vento'].fillna('FALSO', inplace = True)\n",
    "\n",
    "# Mostrando o resultado Final:\n",
    "nulos_vento = dataset['Vento'].isnull().sum()\n",
    "print(f'\\nApós substituir os \"Nulos vamos conferir:'\n",
    "      f'\\n    Nº de nulos em \"Vento\": {nulos_vento}')\n"
   ]
  },
  {
   "cell_type": "code",
   "execution_count": 102,
   "metadata": {},
   "outputs": [
    {
     "name": "stdout",
     "output_type": "stream",
     "text": [
      "Aparencia\n",
      "chuva      5\n",
      "menos      1\n",
      "nublado    3\n",
      "sol        5\n",
      "dtype: int64\n",
      "\n",
      "\n",
      "Vento\n",
      "FALSO         8\n",
      "VERDADEIRO    6\n",
      "dtype: int64\n",
      "\n",
      "\n",
      "Jogar\n",
      "nao    5\n",
      "sim    9\n",
      "dtype: int64\n"
     ]
    }
   ],
   "source": [
    "valores_aparencia = dataset.groupby([\"Aparencia\"]).size()\n",
    "valores_vento = dataset.groupby([\"Vento\"]).size()\n",
    "valores_jogar = dataset.groupby([\"Jogar\"]).size()\n",
    "print(valores_aparencia)\n",
    "print('\\n')\n",
    "print(valores_vento)\n",
    "print('\\n')\n",
    "print(valores_jogar)"
   ]
  },
  {
   "cell_type": "code",
   "execution_count": 103,
   "metadata": {},
   "outputs": [
    {
     "data": {
      "text/plain": [
       "Aparencia\n",
       "chuva      5\n",
       "nublado    3\n",
       "sol        6\n",
       "dtype: int64"
      ]
     },
     "execution_count": 103,
     "metadata": {},
     "output_type": "execute_result"
    }
   ],
   "source": [
    "# Arrumar os valores categoricos de \"Aparencia\"\n",
    "# Trocando 'menos' por 'sol' ou 'chuva', pois os 2 são medianas\n",
    "dataset.loc[(dataset['Aparencia'] == \"menos\", \"Aparencia\")] = \"sol\"\n",
    "\n",
    "# Verificando se foi corrigido:\n",
    "dataset.groupby([\"Aparencia\"]).size()\n"
   ]
  },
  {
   "cell_type": "code",
   "execution_count": 117,
   "metadata": {},
   "outputs": [
    {
     "name": "stdout",
     "output_type": "stream",
     "text": [
      "Empty DataFrame\n",
      "Columns: [Aparencia, Temperatura, Umidade, Vento, Jogar]\n",
      "Index: []\n",
      "\n",
      "A mediana é: 72.75\n",
      "\n",
      "Empty DataFrame\n",
      "Columns: [Aparencia, Temperatura, Umidade, Vento, Jogar]\n",
      "Index: []\n"
     ]
    }
   ],
   "source": [
    "# Verificando se existem temperaturas fora do dominio (-130~130F)\n",
    "temp_errada = dataset.loc[(dataset['Temperatura'] < -130) | (dataset['Temperatura'] > 130)]\n",
    "print(temp_errada)\n",
    "\n",
    "# Corrigindo a temperatura errada\n",
    "# Mediana\n",
    "mediana_temperatura = sts.median(dataset['Temperatura'])\n",
    "print(f'\\nA mediana é: {mediana_temperatura}\\n')\n",
    "\n",
    "# Substituindo valores pela mediana:\n",
    "dataset.loc[(dataset['Temperatura'] == 1220.0, 'Temperatura')] = mediana_temperatura\n",
    "# Recalculando:\n",
    "temp_errada = dataset.loc[(dataset['Temperatura'] < -130) | (dataset['Temperatura'] > 130)]\n",
    "\n",
    "# Verificando resultado:\n",
    "print(temp_errada)\n",
    "\n",
    "\n"
   ]
  },
  {
   "cell_type": "code",
   "execution_count": 119,
   "metadata": {},
   "outputs": [
    {
     "name": "stdout",
     "output_type": "stream",
     "text": [
      "Empty DataFrame\n",
      "Columns: [Aparencia, Temperatura, Umidade, Vento, Jogar]\n",
      "Index: []\n",
      "85.125\n",
      "Empty DataFrame\n",
      "Columns: [Aparencia, Temperatura, Umidade, Vento, Jogar]\n",
      "Index: []\n"
     ]
    }
   ],
   "source": [
    "# Verificando se existem Umidades fora do dominio (0~100)\n",
    "umi_errada = dataset.loc[(dataset['Umidade'] < 0 ) | (dataset['Umidade'] > 100)]\n",
    "print(umi_errada)\n",
    "\n",
    "# Mediana da Umidade\n",
    "mediana_umi = sts.median(dataset['Umidade'])\n",
    "print(mediana_umi)\n",
    "\n",
    "# Corrigindo o valor errado\n",
    "dataset.loc[(dataset['Umidade'] == 200), 'Umidade'] = mediana_umi\n",
    "print(umi_errada)\n"
   ]
  }
 ],
 "metadata": {
  "kernelspec": {
   "display_name": "Python 3",
   "language": "python",
   "name": "python3"
  },
  "language_info": {
   "codemirror_mode": {
    "name": "ipython",
    "version": 3
   },
   "file_extension": ".py",
   "mimetype": "text/x-python",
   "name": "python",
   "nbconvert_exporter": "python",
   "pygments_lexer": "ipython3",
   "version": "3.8.3"
  }
 },
 "nbformat": 4,
 "nbformat_minor": 4
}
